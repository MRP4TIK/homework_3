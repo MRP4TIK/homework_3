{
 "cells": [
  {
   "cell_type": "markdown",
   "id": "f381d35f-9898-40c8-ae3d-46e6966ec2a9",
   "metadata": {},
   "source": [
    "# Домашняя Работа 3 (Кондрашов А.В)"
   ]
  },
  {
   "cell_type": "markdown",
   "id": "fd2aa6e7-4fae-4e54-b39f-175377bd24bc",
   "metadata": {},
   "source": [
    "## Описание данных"
   ]
  },
  {
   "cell_type": "markdown",
   "id": "a02eda1b-e61a-48fe-a1ac-af72149ae78a",
   "metadata": {},
   "source": [
    "### train.csv"
   ]
  },
  {
   "cell_type": "markdown",
   "id": "c4e362c3-3cc1-4d04-a3d9-1e0dad0672c6",
   "metadata": {},
   "source": [
    "+ **row_id**: (int64) ID rows.  \n",
    "+ **timestamp**: (int64) the time in milliseconds between this user interaction and the first event completion from that user.\n",
    "+ **user_id**: (int32) ID code for the user.\n",
    "+ **content_id**: (int16) ID code for the user interaction\n",
    "+ **content_type_id**: (int8) 0 if the event was a question being posed to the user, 1 if the event was the user watching a lecture.\n",
    "+ **task_container_id**: (int16) Id code for the batch of questions or lectures. For example, a user might see three questions in a row before seeing the explanations for any of them. Those three would all share a task_container_id.\n",
    "+ **user_answer**: (int8) the user's answer to the question, if any. Read -1 as null, for lectures.\n",
    "+ **answered_correctly**: (int8) if the user responded correctly. Read -1 as null, for lectures.\n",
    "+ **prior_question_elapsed_time**: (float32) The average time in milliseconds it took a user to answer each question in the previous question bundle, ignoring any lectures in between. Is null for a user's first question bundle or lecture. Note that the time is the average time a user took to solve each question in the previous bundle.\n",
    "+ **prior_question_had_explanation**: (bool) Whether or not the user saw an explanation and the correct response(s) after answering the previous question bundle, ignoring any lectures in between. The value is shared across a single question bundle, and is null for a user's first question bundle or lecture. Typically the first several questions a user sees were part of an onboarding diagnostic test where they did not get any feedback."
   ]
  },
  {
   "cell_type": "markdown",
   "id": "441163f7-66cf-4d2a-88b2-6aae899f4fb6",
   "metadata": {},
   "source": [
    "### questions.csv"
   ]
  },
  {
   "cell_type": "markdown",
   "id": "82fa180d-63da-4369-883f-7834288fd66f",
   "metadata": {},
   "source": [
    "+ **question_id**: foreign key for the train/test content_id column, when the content type is question (0).\n",
    "+ **bundle_id**: code for which questions are served together.\n",
    "+ **correct_answer**: the answer to the question. Can be compared with the train user_answer column to check if the user was right\n",
    "+ **part**: the relevant section of the TOEIC test.\n",
    "+ **tags**: one or more detailed tag codes for the question. The meaning of the tags will not be provided, but these codes are sufficient for clustering the questions together.her."
   ]
  },
  {
   "cell_type": "markdown",
   "id": "7e97d80e-fd07-4167-8c2b-e2c56fb3e111",
   "metadata": {},
   "source": [
    "### lectures.csv"
   ]
  },
  {
   "cell_type": "markdown",
   "id": "906fe81c-eaa1-4b4a-b1da-630b45d2db89",
   "metadata": {},
   "source": [
    "+ **lecture_id**: foreign key for the train/test content_id column, when the content type is lecture (1).\n",
    "+ **part**: top level category code for the lecture.\n",
    "+ **tag**: one tag codes for the lecture. The meaning of the tags will not be provided, but these codes are sufficient for clustering the lectures together.\n",
    "+ **type_of**: brief description of the core purpose of the lecture."
   ]
  },
  {
   "cell_type": "markdown",
   "id": "c7607a3a-4596-463f-8ce1-9960001019ea",
   "metadata": {},
   "source": [
    "## Выгрузка данных"
   ]
  },
  {
   "cell_type": "markdown",
   "id": "52f9829d-dd8d-4b32-afc2-708e43f18d47",
   "metadata": {},
   "source": [
    "Выгружу данные через pyspark"
   ]
  },
  {
   "cell_type": "code",
   "execution_count": 1,
   "id": "72cd4d7f-7338-49c9-969f-f560c92996f8",
   "metadata": {},
   "outputs": [],
   "source": [
    "from pyspark.sql import SparkSession\n",
    "from pyspark.sql.types import IntegerType, ByteType, StringType, StructType, StructField"
   ]
  },
  {
   "cell_type": "code",
   "execution_count": 2,
   "id": "7614d8c2-8586-4de0-b033-1e1dbcf92923",
   "metadata": {},
   "outputs": [],
   "source": [
    "import pandas as pd\n",
    "import matplotlib.pyplot as plt\n",
    "import numpy as np\n",
    "import seaborn as sns\n",
    "import os\n",
    "import warnings"
   ]
  },
  {
   "cell_type": "code",
   "execution_count": 3,
   "id": "5b9785b1-c6b1-40eb-99db-50d623bd8580",
   "metadata": {},
   "outputs": [],
   "source": [
    "warnings.filterwarnings('ignore')\n",
    "sns.set_style('darkgrid')"
   ]
  },
  {
   "cell_type": "code",
   "execution_count": 4,
   "id": "9a42777e-58b6-4213-bcf6-f8ea4a04137b",
   "metadata": {},
   "outputs": [
    {
     "name": "stderr",
     "output_type": "stream",
     "text": [
      "24/10/16 17:45:28 WARN Utils: Your hostname, MacBook-Air-Aleksandr.local resolves to a loopback address: 127.0.0.1; using 192.168.1.67 instead (on interface en0)\n",
      "24/10/16 17:45:28 WARN Utils: Set SPARK_LOCAL_IP if you need to bind to another address\n",
      "Setting default log level to \"WARN\".\n",
      "To adjust logging level use sc.setLogLevel(newLevel). For SparkR, use setLogLevel(newLevel).\n",
      "24/10/16 17:45:29 WARN NativeCodeLoader: Unable to load native-hadoop library for your platform... using builtin-java classes where applicable\n"
     ]
    }
   ],
   "source": [
    "spark = SparkSession.builder.appName('Homework_3') \\\n",
    "    .config(\"spark.driver.memory\", \"8g\") \\\n",
    "    .config(\"spark.executor.memory\", \"8g\") \\\n",
    "    .config(\"spark.driver.maxResultSize\", \"4g\").getOrCreate()"
   ]
  },
  {
   "cell_type": "code",
   "execution_count": 5,
   "id": "dffb50db-3026-4f65-9d92-3811eccb4efb",
   "metadata": {},
   "outputs": [],
   "source": [
    "spark.conf.set('spark.sql.repl.eagerEval.enabled', True)"
   ]
  },
  {
   "cell_type": "code",
   "execution_count": 6,
   "id": "278d088e-918c-42d2-886d-9a582f8e094f",
   "metadata": {},
   "outputs": [
    {
     "name": "stderr",
     "output_type": "stream",
     "text": [
      "24/10/16 17:45:44 WARN GarbageCollectionMetrics: To enable non-built-in garbage collector(s) List(G1 Concurrent GC), users should configure it(them) to spark.eventLog.gcMetrics.youngGenerationGarbageCollectors or spark.eventLog.gcMetrics.oldGenerationGarbageCollectors\n",
      "                                                                                \r"
     ]
    }
   ],
   "source": [
    "df_train = spark.read.csv('train.csv',inferSchema =True,header = True)"
   ]
  },
  {
   "cell_type": "code",
   "execution_count": 7,
   "id": "4210ba21-ac0c-4770-b4c4-ab3892e27128",
   "metadata": {},
   "outputs": [
    {
     "name": "stdout",
     "output_type": "stream",
     "text": [
      "root\n",
      " |-- row_id: integer (nullable = true)\n",
      " |-- timestamp: long (nullable = true)\n",
      " |-- user_id: integer (nullable = true)\n",
      " |-- content_id: integer (nullable = true)\n",
      " |-- content_type_id: integer (nullable = true)\n",
      " |-- task_container_id: integer (nullable = true)\n",
      " |-- user_answer: integer (nullable = true)\n",
      " |-- answered_correctly: integer (nullable = true)\n",
      " |-- prior_question_elapsed_time: double (nullable = true)\n",
      " |-- prior_question_had_explanation: boolean (nullable = true)\n",
      "\n"
     ]
    }
   ],
   "source": [
    "df_train.printSchema()"
   ]
  },
  {
   "cell_type": "code",
   "execution_count": 8,
   "id": "fe55c6da-cd42-40ed-bde0-ee0bd16c5b6c",
   "metadata": {},
   "outputs": [
    {
     "data": {
      "text/plain": [
       "[('row_id', 'int'),\n",
       " ('timestamp', 'bigint'),\n",
       " ('user_id', 'int'),\n",
       " ('content_id', 'int'),\n",
       " ('content_type_id', 'int'),\n",
       " ('task_container_id', 'int'),\n",
       " ('user_answer', 'int'),\n",
       " ('answered_correctly', 'int'),\n",
       " ('prior_question_elapsed_time', 'double'),\n",
       " ('prior_question_had_explanation', 'boolean')]"
      ]
     },
     "execution_count": 8,
     "metadata": {},
     "output_type": "execute_result"
    }
   ],
   "source": [
    "df_train.dtypes"
   ]
  },
  {
   "cell_type": "code",
   "execution_count": 9,
   "id": "7d9ff765-661f-461b-8bd9-fdebf4c260b0",
   "metadata": {},
   "outputs": [
    {
     "data": {
      "text/html": [
       "<table border='1'>\n",
       "<tr><th>row_id</th><th>timestamp</th><th>user_id</th><th>content_id</th><th>content_type_id</th><th>task_container_id</th><th>user_answer</th><th>answered_correctly</th><th>prior_question_elapsed_time</th><th>prior_question_had_explanation</th></tr>\n",
       "<tr><td>0</td><td>0</td><td>115</td><td>5692</td><td>0</td><td>1</td><td>3</td><td>1</td><td>NULL</td><td>NULL</td></tr>\n",
       "<tr><td>1</td><td>56943</td><td>115</td><td>5716</td><td>0</td><td>2</td><td>2</td><td>1</td><td>37000.0</td><td>false</td></tr>\n",
       "<tr><td>2</td><td>118363</td><td>115</td><td>128</td><td>0</td><td>0</td><td>0</td><td>1</td><td>55000.0</td><td>false</td></tr>\n",
       "<tr><td>3</td><td>131167</td><td>115</td><td>7860</td><td>0</td><td>3</td><td>0</td><td>1</td><td>19000.0</td><td>false</td></tr>\n",
       "<tr><td>4</td><td>137965</td><td>115</td><td>7922</td><td>0</td><td>4</td><td>1</td><td>1</td><td>11000.0</td><td>false</td></tr>\n",
       "<tr><td>5</td><td>157063</td><td>115</td><td>156</td><td>0</td><td>5</td><td>2</td><td>1</td><td>5000.0</td><td>false</td></tr>\n",
       "<tr><td>6</td><td>176092</td><td>115</td><td>51</td><td>0</td><td>6</td><td>0</td><td>1</td><td>17000.0</td><td>false</td></tr>\n",
       "<tr><td>7</td><td>194190</td><td>115</td><td>50</td><td>0</td><td>7</td><td>3</td><td>1</td><td>17000.0</td><td>false</td></tr>\n",
       "<tr><td>8</td><td>212463</td><td>115</td><td>7896</td><td>0</td><td>8</td><td>2</td><td>1</td><td>16000.0</td><td>false</td></tr>\n",
       "<tr><td>9</td><td>230983</td><td>115</td><td>7863</td><td>0</td><td>9</td><td>0</td><td>1</td><td>16000.0</td><td>false</td></tr>\n",
       "<tr><td>10</td><td>255381</td><td>115</td><td>152</td><td>0</td><td>10</td><td>2</td><td>0</td><td>17000.0</td><td>false</td></tr>\n",
       "<tr><td>11</td><td>280033</td><td>115</td><td>104</td><td>0</td><td>11</td><td>1</td><td>0</td><td>22000.0</td><td>false</td></tr>\n",
       "<tr><td>12</td><td>302994</td><td>115</td><td>108</td><td>0</td><td>12</td><td>1</td><td>0</td><td>23000.0</td><td>false</td></tr>\n",
       "<tr><td>13</td><td>328686</td><td>115</td><td>7900</td><td>0</td><td>13</td><td>0</td><td>1</td><td>21000.0</td><td>false</td></tr>\n",
       "<tr><td>14</td><td>352686</td><td>115</td><td>7901</td><td>0</td><td>14</td><td>1</td><td>1</td><td>24000.0</td><td>false</td></tr>\n",
       "<tr><td>15</td><td>376162</td><td>115</td><td>7971</td><td>0</td><td>15</td><td>2</td><td>1</td><td>22000.0</td><td>false</td></tr>\n",
       "<tr><td>16</td><td>398020</td><td>115</td><td>25</td><td>0</td><td>16</td><td>1</td><td>1</td><td>21000.0</td><td>false</td></tr>\n",
       "<tr><td>17</td><td>418008</td><td>115</td><td>183</td><td>0</td><td>17</td><td>0</td><td>0</td><td>20000.0</td><td>false</td></tr>\n",
       "<tr><td>18</td><td>437272</td><td>115</td><td>7926</td><td>0</td><td>18</td><td>1</td><td>1</td><td>18000.0</td><td>false</td></tr>\n",
       "<tr><td>19</td><td>468511</td><td>115</td><td>7927</td><td>0</td><td>19</td><td>3</td><td>1</td><td>17000.0</td><td>false</td></tr>\n",
       "</table>\n",
       "only showing top 20 rows\n"
      ],
      "text/plain": [
       "+------+---------+-------+----------+---------------+-----------------+-----------+------------------+---------------------------+------------------------------+\n",
       "|row_id|timestamp|user_id|content_id|content_type_id|task_container_id|user_answer|answered_correctly|prior_question_elapsed_time|prior_question_had_explanation|\n",
       "+------+---------+-------+----------+---------------+-----------------+-----------+------------------+---------------------------+------------------------------+\n",
       "|     0|        0|    115|      5692|              0|                1|          3|                 1|                       NULL|                          NULL|\n",
       "|     1|    56943|    115|      5716|              0|                2|          2|                 1|                    37000.0|                         false|\n",
       "|     2|   118363|    115|       128|              0|                0|          0|                 1|                    55000.0|                         false|\n",
       "|     3|   131167|    115|      7860|              0|                3|          0|                 1|                    19000.0|                         false|\n",
       "|     4|   137965|    115|      7922|              0|                4|          1|                 1|                    11000.0|                         false|\n",
       "|     5|   157063|    115|       156|              0|                5|          2|                 1|                     5000.0|                         false|\n",
       "|     6|   176092|    115|        51|              0|                6|          0|                 1|                    17000.0|                         false|\n",
       "|     7|   194190|    115|        50|              0|                7|          3|                 1|                    17000.0|                         false|\n",
       "|     8|   212463|    115|      7896|              0|                8|          2|                 1|                    16000.0|                         false|\n",
       "|     9|   230983|    115|      7863|              0|                9|          0|                 1|                    16000.0|                         false|\n",
       "|    10|   255381|    115|       152|              0|               10|          2|                 0|                    17000.0|                         false|\n",
       "|    11|   280033|    115|       104|              0|               11|          1|                 0|                    22000.0|                         false|\n",
       "|    12|   302994|    115|       108|              0|               12|          1|                 0|                    23000.0|                         false|\n",
       "|    13|   328686|    115|      7900|              0|               13|          0|                 1|                    21000.0|                         false|\n",
       "|    14|   352686|    115|      7901|              0|               14|          1|                 1|                    24000.0|                         false|\n",
       "|    15|   376162|    115|      7971|              0|               15|          2|                 1|                    22000.0|                         false|\n",
       "|    16|   398020|    115|        25|              0|               16|          1|                 1|                    21000.0|                         false|\n",
       "|    17|   418008|    115|       183|              0|               17|          0|                 0|                    20000.0|                         false|\n",
       "|    18|   437272|    115|      7926|              0|               18|          1|                 1|                    18000.0|                         false|\n",
       "|    19|   468511|    115|      7927|              0|               19|          3|                 1|                    17000.0|                         false|\n",
       "+------+---------+-------+----------+---------------+-----------------+-----------+------------------+---------------------------+------------------------------+\n",
       "only showing top 20 rows"
      ]
     },
     "execution_count": 9,
     "metadata": {},
     "output_type": "execute_result"
    }
   ],
   "source": [
    "df_train"
   ]
  },
  {
   "cell_type": "code",
   "execution_count": 10,
   "id": "ed55be46-4c66-4598-8e9f-04c9655936cb",
   "metadata": {},
   "outputs": [],
   "source": [
    "df_train.createOrReplaceTempView('df_train')"
   ]
  },
  {
   "cell_type": "markdown",
   "id": "e1513f40-bdd2-41eb-b784-2c5e40f9bc8e",
   "metadata": {},
   "source": [
    "Создаю временную таблицу для работы с SQL"
   ]
  },
  {
   "cell_type": "code",
   "execution_count": 11,
   "id": "70da4b5f-d93b-4cd7-b3cc-f46549bc8b1d",
   "metadata": {},
   "outputs": [],
   "source": [
    "df_questions = pd.read_csv('questions.csv')"
   ]
  },
  {
   "cell_type": "code",
   "execution_count": 12,
   "id": "1cd7a59a-351a-4c78-aecb-3ec4d8ce177c",
   "metadata": {},
   "outputs": [
    {
     "name": "stdout",
     "output_type": "stream",
     "text": [
      "<class 'pandas.core.frame.DataFrame'>\n",
      "RangeIndex: 13523 entries, 0 to 13522\n",
      "Data columns (total 5 columns):\n",
      " #   Column          Non-Null Count  Dtype \n",
      "---  ------          --------------  ----- \n",
      " 0   question_id     13523 non-null  int64 \n",
      " 1   bundle_id       13523 non-null  int64 \n",
      " 2   correct_answer  13523 non-null  int64 \n",
      " 3   part            13523 non-null  int64 \n",
      " 4   tags            13522 non-null  object\n",
      "dtypes: int64(4), object(1)\n",
      "memory usage: 528.4+ KB\n"
     ]
    }
   ],
   "source": [
    "df_questions.info()"
   ]
  },
  {
   "cell_type": "markdown",
   "id": "a715535c-2223-4903-950e-190208871ca5",
   "metadata": {},
   "source": [
    "Несмотря на то что тип данных идет int64, я при преобразовании в pyspark укажу какой тип должен быть."
   ]
  },
  {
   "cell_type": "code",
   "execution_count": 13,
   "id": "2ec1cb7f-fe0f-4459-927e-3c23e203bd04",
   "metadata": {},
   "outputs": [
    {
     "data": {
      "text/html": [
       "<div>\n",
       "<style scoped>\n",
       "    .dataframe tbody tr th:only-of-type {\n",
       "        vertical-align: middle;\n",
       "    }\n",
       "\n",
       "    .dataframe tbody tr th {\n",
       "        vertical-align: top;\n",
       "    }\n",
       "\n",
       "    .dataframe thead th {\n",
       "        text-align: right;\n",
       "    }\n",
       "</style>\n",
       "<table border=\"1\" class=\"dataframe\">\n",
       "  <thead>\n",
       "    <tr style=\"text-align: right;\">\n",
       "      <th></th>\n",
       "      <th>question_id</th>\n",
       "      <th>bundle_id</th>\n",
       "      <th>correct_answer</th>\n",
       "      <th>part</th>\n",
       "      <th>tags</th>\n",
       "    </tr>\n",
       "  </thead>\n",
       "  <tbody>\n",
       "    <tr>\n",
       "      <th>0</th>\n",
       "      <td>0</td>\n",
       "      <td>0</td>\n",
       "      <td>0</td>\n",
       "      <td>1</td>\n",
       "      <td>51 131 162 38</td>\n",
       "    </tr>\n",
       "    <tr>\n",
       "      <th>1</th>\n",
       "      <td>1</td>\n",
       "      <td>1</td>\n",
       "      <td>1</td>\n",
       "      <td>1</td>\n",
       "      <td>131 36 81</td>\n",
       "    </tr>\n",
       "    <tr>\n",
       "      <th>2</th>\n",
       "      <td>2</td>\n",
       "      <td>2</td>\n",
       "      <td>0</td>\n",
       "      <td>1</td>\n",
       "      <td>131 101 162 92</td>\n",
       "    </tr>\n",
       "    <tr>\n",
       "      <th>3</th>\n",
       "      <td>3</td>\n",
       "      <td>3</td>\n",
       "      <td>0</td>\n",
       "      <td>1</td>\n",
       "      <td>131 149 162 29</td>\n",
       "    </tr>\n",
       "    <tr>\n",
       "      <th>4</th>\n",
       "      <td>4</td>\n",
       "      <td>4</td>\n",
       "      <td>3</td>\n",
       "      <td>1</td>\n",
       "      <td>131 5 162 38</td>\n",
       "    </tr>\n",
       "  </tbody>\n",
       "</table>\n",
       "</div>"
      ],
      "text/plain": [
       "   question_id  bundle_id  correct_answer  part            tags\n",
       "0            0          0               0     1   51 131 162 38\n",
       "1            1          1               1     1       131 36 81\n",
       "2            2          2               0     1  131 101 162 92\n",
       "3            3          3               0     1  131 149 162 29\n",
       "4            4          4               3     1    131 5 162 38"
      ]
     },
     "execution_count": 13,
     "metadata": {},
     "output_type": "execute_result"
    }
   ],
   "source": [
    "df_questions.head()"
   ]
  },
  {
   "cell_type": "code",
   "execution_count": 14,
   "id": "f9d34f64-462c-4265-9265-623c63b74c0b",
   "metadata": {},
   "outputs": [
    {
     "data": {
      "text/html": [
       "<div>\n",
       "<style scoped>\n",
       "    .dataframe tbody tr th:only-of-type {\n",
       "        vertical-align: middle;\n",
       "    }\n",
       "\n",
       "    .dataframe tbody tr th {\n",
       "        vertical-align: top;\n",
       "    }\n",
       "\n",
       "    .dataframe thead th {\n",
       "        text-align: right;\n",
       "    }\n",
       "</style>\n",
       "<table border=\"1\" class=\"dataframe\">\n",
       "  <thead>\n",
       "    <tr style=\"text-align: right;\">\n",
       "      <th></th>\n",
       "      <th>question_id</th>\n",
       "      <th>bundle_id</th>\n",
       "      <th>correct_answer</th>\n",
       "      <th>part</th>\n",
       "      <th>tags</th>\n",
       "    </tr>\n",
       "  </thead>\n",
       "  <tbody>\n",
       "    <tr>\n",
       "      <th>13518</th>\n",
       "      <td>13518</td>\n",
       "      <td>13518</td>\n",
       "      <td>3</td>\n",
       "      <td>5</td>\n",
       "      <td>14</td>\n",
       "    </tr>\n",
       "    <tr>\n",
       "      <th>13519</th>\n",
       "      <td>13519</td>\n",
       "      <td>13519</td>\n",
       "      <td>3</td>\n",
       "      <td>5</td>\n",
       "      <td>8</td>\n",
       "    </tr>\n",
       "    <tr>\n",
       "      <th>13520</th>\n",
       "      <td>13520</td>\n",
       "      <td>13520</td>\n",
       "      <td>2</td>\n",
       "      <td>5</td>\n",
       "      <td>73</td>\n",
       "    </tr>\n",
       "    <tr>\n",
       "      <th>13521</th>\n",
       "      <td>13521</td>\n",
       "      <td>13521</td>\n",
       "      <td>0</td>\n",
       "      <td>5</td>\n",
       "      <td>125</td>\n",
       "    </tr>\n",
       "    <tr>\n",
       "      <th>13522</th>\n",
       "      <td>13522</td>\n",
       "      <td>13522</td>\n",
       "      <td>3</td>\n",
       "      <td>5</td>\n",
       "      <td>55</td>\n",
       "    </tr>\n",
       "  </tbody>\n",
       "</table>\n",
       "</div>"
      ],
      "text/plain": [
       "       question_id  bundle_id  correct_answer  part tags\n",
       "13518        13518      13518               3     5   14\n",
       "13519        13519      13519               3     5    8\n",
       "13520        13520      13520               2     5   73\n",
       "13521        13521      13521               0     5  125\n",
       "13522        13522      13522               3     5   55"
      ]
     },
     "execution_count": 14,
     "metadata": {},
     "output_type": "execute_result"
    }
   ],
   "source": [
    "df_questions.tail()"
   ]
  },
  {
   "cell_type": "code",
   "execution_count": 15,
   "id": "ee658e8c-495a-4e0c-b6d9-9c8f5118f224",
   "metadata": {},
   "outputs": [],
   "source": [
    "df_questions.drop(['bundle_id'],axis = 1 , inplace=True)"
   ]
  },
  {
   "cell_type": "markdown",
   "id": "42f5cbb1-a35c-4a04-9b10-643ad48c859c",
   "metadata": {},
   "source": [
    "Удалил повторяющийся признак"
   ]
  },
  {
   "cell_type": "code",
   "execution_count": 16,
   "id": "3919a158-8e4c-4c33-ae07-26505f3dd396",
   "metadata": {},
   "outputs": [],
   "source": [
    "schema = StructType([\n",
    "    StructField(\"question_id\", IntegerType(), True), \n",
    "    StructField(\"correct_answer\", ByteType(), True),\n",
    "    StructField(\"part\", ByteType(), True),\n",
    "    StructField(\"tags\", StringType(), True)])\n",
    "df_questions_spark = spark.createDataFrame(df_questions,schema = schema)"
   ]
  },
  {
   "cell_type": "code",
   "execution_count": 17,
   "id": "1bca3d78-55fc-4389-9e9e-58b67e50e2ed",
   "metadata": {},
   "outputs": [
    {
     "name": "stdout",
     "output_type": "stream",
     "text": [
      "root\n",
      " |-- question_id: integer (nullable = true)\n",
      " |-- correct_answer: byte (nullable = true)\n",
      " |-- part: byte (nullable = true)\n",
      " |-- tags: string (nullable = true)\n",
      "\n"
     ]
    }
   ],
   "source": [
    "df_questions_spark.printSchema()"
   ]
  },
  {
   "cell_type": "code",
   "execution_count": 18,
   "id": "2ecf6666-feae-4e6f-a6cf-1b60c950e89d",
   "metadata": {},
   "outputs": [],
   "source": [
    "df_questions_spark.createOrReplaceTempView('df_questions')"
   ]
  },
  {
   "cell_type": "code",
   "execution_count": 19,
   "id": "e4e12e14-9d1d-4fd4-9474-9e68546b3012",
   "metadata": {},
   "outputs": [],
   "source": [
    "df_lectures = pd.read_csv('lectures.csv')"
   ]
  },
  {
   "cell_type": "code",
   "execution_count": 20,
   "id": "b414215f-6695-446b-bc1f-e6fdb153aeb2",
   "metadata": {},
   "outputs": [
    {
     "name": "stdout",
     "output_type": "stream",
     "text": [
      "<class 'pandas.core.frame.DataFrame'>\n",
      "RangeIndex: 418 entries, 0 to 417\n",
      "Data columns (total 4 columns):\n",
      " #   Column      Non-Null Count  Dtype \n",
      "---  ------      --------------  ----- \n",
      " 0   lecture_id  418 non-null    int64 \n",
      " 1   tag         418 non-null    int64 \n",
      " 2   part        418 non-null    int64 \n",
      " 3   type_of     418 non-null    object\n",
      "dtypes: int64(3), object(1)\n",
      "memory usage: 13.2+ KB\n"
     ]
    }
   ],
   "source": [
    "df_lectures.info()"
   ]
  },
  {
   "cell_type": "code",
   "execution_count": 21,
   "id": "c4771fb1-9832-4c9c-a0f8-0c3c9f9224dc",
   "metadata": {},
   "outputs": [
    {
     "data": {
      "text/html": [
       "<div>\n",
       "<style scoped>\n",
       "    .dataframe tbody tr th:only-of-type {\n",
       "        vertical-align: middle;\n",
       "    }\n",
       "\n",
       "    .dataframe tbody tr th {\n",
       "        vertical-align: top;\n",
       "    }\n",
       "\n",
       "    .dataframe thead th {\n",
       "        text-align: right;\n",
       "    }\n",
       "</style>\n",
       "<table border=\"1\" class=\"dataframe\">\n",
       "  <thead>\n",
       "    <tr style=\"text-align: right;\">\n",
       "      <th></th>\n",
       "      <th>lecture_id</th>\n",
       "      <th>tag</th>\n",
       "      <th>part</th>\n",
       "      <th>type_of</th>\n",
       "    </tr>\n",
       "  </thead>\n",
       "  <tbody>\n",
       "    <tr>\n",
       "      <th>0</th>\n",
       "      <td>89</td>\n",
       "      <td>159</td>\n",
       "      <td>5</td>\n",
       "      <td>concept</td>\n",
       "    </tr>\n",
       "    <tr>\n",
       "      <th>1</th>\n",
       "      <td>100</td>\n",
       "      <td>70</td>\n",
       "      <td>1</td>\n",
       "      <td>concept</td>\n",
       "    </tr>\n",
       "    <tr>\n",
       "      <th>2</th>\n",
       "      <td>185</td>\n",
       "      <td>45</td>\n",
       "      <td>6</td>\n",
       "      <td>concept</td>\n",
       "    </tr>\n",
       "    <tr>\n",
       "      <th>3</th>\n",
       "      <td>192</td>\n",
       "      <td>79</td>\n",
       "      <td>5</td>\n",
       "      <td>solving question</td>\n",
       "    </tr>\n",
       "    <tr>\n",
       "      <th>4</th>\n",
       "      <td>317</td>\n",
       "      <td>156</td>\n",
       "      <td>5</td>\n",
       "      <td>solving question</td>\n",
       "    </tr>\n",
       "  </tbody>\n",
       "</table>\n",
       "</div>"
      ],
      "text/plain": [
       "   lecture_id  tag  part           type_of\n",
       "0          89  159     5           concept\n",
       "1         100   70     1           concept\n",
       "2         185   45     6           concept\n",
       "3         192   79     5  solving question\n",
       "4         317  156     5  solving question"
      ]
     },
     "execution_count": 21,
     "metadata": {},
     "output_type": "execute_result"
    }
   ],
   "source": [
    "df_lectures.head()"
   ]
  },
  {
   "cell_type": "code",
   "execution_count": 22,
   "id": "d11c726f-e9b0-4efd-9fb4-ac6bd453b014",
   "metadata": {},
   "outputs": [
    {
     "data": {
      "text/html": [
       "<div>\n",
       "<style scoped>\n",
       "    .dataframe tbody tr th:only-of-type {\n",
       "        vertical-align: middle;\n",
       "    }\n",
       "\n",
       "    .dataframe tbody tr th {\n",
       "        vertical-align: top;\n",
       "    }\n",
       "\n",
       "    .dataframe thead th {\n",
       "        text-align: right;\n",
       "    }\n",
       "</style>\n",
       "<table border=\"1\" class=\"dataframe\">\n",
       "  <thead>\n",
       "    <tr style=\"text-align: right;\">\n",
       "      <th></th>\n",
       "      <th>lecture_id</th>\n",
       "      <th>tag</th>\n",
       "      <th>part</th>\n",
       "      <th>type_of</th>\n",
       "    </tr>\n",
       "  </thead>\n",
       "  <tbody>\n",
       "    <tr>\n",
       "      <th>413</th>\n",
       "      <td>32535</td>\n",
       "      <td>8</td>\n",
       "      <td>5</td>\n",
       "      <td>solving question</td>\n",
       "    </tr>\n",
       "    <tr>\n",
       "      <th>414</th>\n",
       "      <td>32570</td>\n",
       "      <td>113</td>\n",
       "      <td>3</td>\n",
       "      <td>solving question</td>\n",
       "    </tr>\n",
       "    <tr>\n",
       "      <th>415</th>\n",
       "      <td>32604</td>\n",
       "      <td>24</td>\n",
       "      <td>6</td>\n",
       "      <td>concept</td>\n",
       "    </tr>\n",
       "    <tr>\n",
       "      <th>416</th>\n",
       "      <td>32625</td>\n",
       "      <td>142</td>\n",
       "      <td>2</td>\n",
       "      <td>concept</td>\n",
       "    </tr>\n",
       "    <tr>\n",
       "      <th>417</th>\n",
       "      <td>32736</td>\n",
       "      <td>82</td>\n",
       "      <td>3</td>\n",
       "      <td>concept</td>\n",
       "    </tr>\n",
       "  </tbody>\n",
       "</table>\n",
       "</div>"
      ],
      "text/plain": [
       "     lecture_id  tag  part           type_of\n",
       "413       32535    8     5  solving question\n",
       "414       32570  113     3  solving question\n",
       "415       32604   24     6           concept\n",
       "416       32625  142     2           concept\n",
       "417       32736   82     3           concept"
      ]
     },
     "execution_count": 22,
     "metadata": {},
     "output_type": "execute_result"
    }
   ],
   "source": [
    "df_lectures.tail()"
   ]
  },
  {
   "cell_type": "code",
   "execution_count": 23,
   "id": "9318a862-460d-4c1d-ba2c-86176f101efd",
   "metadata": {},
   "outputs": [],
   "source": [
    "schema = StructType([\n",
    "    StructField('lecture_id',IntegerType(),True),\n",
    "    StructField('tag',IntegerType(),True),\n",
    "    StructField('part',IntegerType(),True),\n",
    "    StructField('type_of',StringType(),True),\n",
    "])\n",
    "\n",
    "\n",
    "df_lectures_spark = spark.createDataFrame(df_lectures, schema = schema)"
   ]
  },
  {
   "cell_type": "code",
   "execution_count": 24,
   "id": "a790d08c-072e-493c-bcdd-c7253284f335",
   "metadata": {},
   "outputs": [
    {
     "name": "stderr",
     "output_type": "stream",
     "text": [
      "                                                                                \r"
     ]
    },
    {
     "data": {
      "text/html": [
       "<table border='1'>\n",
       "<tr><th>lecture_id</th><th>tag</th><th>part</th><th>type_of</th></tr>\n",
       "<tr><td>89</td><td>159</td><td>5</td><td>concept</td></tr>\n",
       "<tr><td>100</td><td>70</td><td>1</td><td>concept</td></tr>\n",
       "<tr><td>185</td><td>45</td><td>6</td><td>concept</td></tr>\n",
       "<tr><td>192</td><td>79</td><td>5</td><td>solving question</td></tr>\n",
       "<tr><td>317</td><td>156</td><td>5</td><td>solving question</td></tr>\n",
       "<tr><td>335</td><td>114</td><td>2</td><td>concept</td></tr>\n",
       "<tr><td>484</td><td>179</td><td>5</td><td>concept</td></tr>\n",
       "<tr><td>641</td><td>134</td><td>6</td><td>solving question</td></tr>\n",
       "<tr><td>761</td><td>93</td><td>1</td><td>concept</td></tr>\n",
       "<tr><td>814</td><td>80</td><td>5</td><td>solving question</td></tr>\n",
       "<tr><td>1003</td><td>98</td><td>7</td><td>concept</td></tr>\n",
       "<tr><td>1077</td><td>101</td><td>1</td><td>solving question</td></tr>\n",
       "<tr><td>1105</td><td>134</td><td>5</td><td>concept</td></tr>\n",
       "<tr><td>1144</td><td>33</td><td>5</td><td>concept</td></tr>\n",
       "<tr><td>1253</td><td>74</td><td>3</td><td>solving question</td></tr>\n",
       "<tr><td>1308</td><td>60</td><td>6</td><td>concept</td></tr>\n",
       "<tr><td>1450</td><td>101</td><td>1</td><td>solving question</td></tr>\n",
       "<tr><td>1501</td><td>181</td><td>5</td><td>concept</td></tr>\n",
       "<tr><td>1604</td><td>43</td><td>5</td><td>solving question</td></tr>\n",
       "<tr><td>1731</td><td>4</td><td>5</td><td>concept</td></tr>\n",
       "</table>\n",
       "only showing top 20 rows\n"
      ],
      "text/plain": [
       "+----------+---+----+----------------+\n",
       "|lecture_id|tag|part|         type_of|\n",
       "+----------+---+----+----------------+\n",
       "|        89|159|   5|         concept|\n",
       "|       100| 70|   1|         concept|\n",
       "|       185| 45|   6|         concept|\n",
       "|       192| 79|   5|solving question|\n",
       "|       317|156|   5|solving question|\n",
       "|       335|114|   2|         concept|\n",
       "|       484|179|   5|         concept|\n",
       "|       641|134|   6|solving question|\n",
       "|       761| 93|   1|         concept|\n",
       "|       814| 80|   5|solving question|\n",
       "|      1003| 98|   7|         concept|\n",
       "|      1077|101|   1|solving question|\n",
       "|      1105|134|   5|         concept|\n",
       "|      1144| 33|   5|         concept|\n",
       "|      1253| 74|   3|solving question|\n",
       "|      1308| 60|   6|         concept|\n",
       "|      1450|101|   1|solving question|\n",
       "|      1501|181|   5|         concept|\n",
       "|      1604| 43|   5|solving question|\n",
       "|      1731|  4|   5|         concept|\n",
       "+----------+---+----+----------------+\n",
       "only showing top 20 rows"
      ]
     },
     "execution_count": 24,
     "metadata": {},
     "output_type": "execute_result"
    }
   ],
   "source": [
    "df_lectures_spark"
   ]
  },
  {
   "cell_type": "code",
   "execution_count": 25,
   "id": "20751afa-2e8a-4fc3-97ba-bcf47ef7b9c8",
   "metadata": {},
   "outputs": [
    {
     "name": "stdout",
     "output_type": "stream",
     "text": [
      "root\n",
      " |-- lecture_id: integer (nullable = true)\n",
      " |-- tag: integer (nullable = true)\n",
      " |-- part: integer (nullable = true)\n",
      " |-- type_of: string (nullable = true)\n",
      "\n"
     ]
    }
   ],
   "source": [
    "df_lectures_spark.printSchema()"
   ]
  },
  {
   "cell_type": "code",
   "execution_count": 26,
   "id": "21c58916-1c1c-470a-95db-63e0fbef43fd",
   "metadata": {},
   "outputs": [],
   "source": [
    "df_lectures_spark.createOrReplaceTempView('df_lectures')"
   ]
  },
  {
   "cell_type": "markdown",
   "id": "c426fb0c-9f22-4bb8-8d89-4d04dd1914a2",
   "metadata": {},
   "source": [
    "## Предобработка данных"
   ]
  },
  {
   "cell_type": "markdown",
   "id": "dc8924a2-ec90-458e-a4c1-b1e1a55e2f6d",
   "metadata": {},
   "source": [
    "### Ответы на вопросы"
   ]
  },
  {
   "cell_type": "code",
   "execution_count": 27,
   "id": "e769d4e6-fe37-44d7-949c-57acab70ba6f",
   "metadata": {},
   "outputs": [
    {
     "name": "stderr",
     "output_type": "stream",
     "text": [
      "24/10/16 17:46:11 WARN SparkStringUtils: Truncated the string representation of a plan since it was too large. This behavior can be adjusted by setting 'spark.sql.debug.maxToStringFields'.\n",
      "                                                                                \r"
     ]
    },
    {
     "data": {
      "text/html": [
       "<table border='1'>\n",
       "<tr><th>summary</th><th>row_id</th><th>timestamp</th><th>user_id</th><th>content_id</th><th>content_type_id</th><th>task_container_id</th><th>user_answer</th><th>answered_correctly</th><th>prior_question_elapsed_time</th></tr>\n",
       "<tr><td>count</td><td>101230332</td><td>101230332</td><td>101230332</td><td>101230332</td><td>101230332</td><td>101230332</td><td>101230332</td><td>101230332</td><td>98878794</td></tr>\n",
       "<tr><td>mean</td><td>5.06151655E7</td><td>7.70364365432656E9</td><td>1.0767324242029972E9</td><td>5219.604757119635</td><td>0.019352223402764303</td><td>904.062365596114</td><td>1.3761227909437261</td><td>0.6251643529135121</td><td>25423.810042960275</td></tr>\n",
       "<tr><td>stddev</td><td>2.9222679859515164E7</td><td>1.159265530852565...</td><td>6.197163495006474E8</td><td>3866.3589397219266</td><td>0.13775962775648212</td><td>1358.3021807381062</td><td>1.1928961482703706</td><td>0.5225307017415066</td><td>19948.146709266908</td></tr>\n",
       "<tr><td>min</td><td>0</td><td>0</td><td>115</td><td>0</td><td>0</td><td>0</td><td>-1</td><td>-1</td><td>0.0</td></tr>\n",
       "<tr><td>max</td><td>101230331</td><td>87425772049</td><td>2147482888</td><td>32736</td><td>1</td><td>9999</td><td>3</td><td>1</td><td>300000.0</td></tr>\n",
       "</table>\n"
      ],
      "text/plain": [
       "+-------+--------------------+--------------------+--------------------+------------------+--------------------+------------------+------------------+------------------+---------------------------+\n",
       "|summary|              row_id|           timestamp|             user_id|        content_id|     content_type_id| task_container_id|       user_answer|answered_correctly|prior_question_elapsed_time|\n",
       "+-------+--------------------+--------------------+--------------------+------------------+--------------------+------------------+------------------+------------------+---------------------------+\n",
       "|  count|           101230332|           101230332|           101230332|         101230332|           101230332|         101230332|         101230332|         101230332|                   98878794|\n",
       "|   mean|        5.06151655E7|  7.70364365432656E9|1.0767324242029972E9| 5219.604757119635|0.019352223402764303|  904.062365596114|1.3761227909437261|0.6251643529135121|         25423.810042960275|\n",
       "| stddev|2.9222679859515164E7|1.159265530852565...| 6.197163495006474E8|3866.3589397219266| 0.13775962775648212|1358.3021807381062|1.1928961482703706|0.5225307017415066|         19948.146709266908|\n",
       "|    min|                   0|                   0|                 115|                 0|                   0|                 0|                -1|                -1|                        0.0|\n",
       "|    max|           101230331|         87425772049|          2147482888|             32736|                   1|              9999|                 3|                 1|                   300000.0|\n",
       "+-------+--------------------+--------------------+--------------------+------------------+--------------------+------------------+------------------+------------------+---------------------------+"
      ]
     },
     "execution_count": 27,
     "metadata": {},
     "output_type": "execute_result"
    }
   ],
   "source": [
    "df_train.describe()"
   ]
  },
  {
   "cell_type": "markdown",
   "id": "ef0006ad-9c3c-45da-81cb-94168dbc6f2c",
   "metadata": {},
   "source": [
    "Поскольку у нас данные разделены на просмотр лекций и ответы на вопросы. Анализировать эти две группы будем по отдельности. Также придется прибегнуть к сэмплированию."
   ]
  },
  {
   "cell_type": "code",
   "execution_count": 28,
   "id": "872a6bbc-c1e6-4f0e-b396-411f64ec5bc3",
   "metadata": {},
   "outputs": [],
   "source": [
    "df_only_questions = spark.sql('''WITH only_question as (SELECT *\n",
    "FROM df_train AS dt\n",
    "WHERE content_type_id=0)\n",
    "SELECT *\n",
    "FROM only_question as oq\n",
    "LEFT JOIN df_questions AS dq ON oq.content_id = dq.question_id\n",
    "''')"
   ]
  },
  {
   "cell_type": "code",
   "execution_count": 29,
   "id": "e702efd0-af27-43a0-ad06-743c1a881b11",
   "metadata": {},
   "outputs": [
    {
     "name": "stderr",
     "output_type": "stream",
     "text": [
      "                                                                                \r"
     ]
    },
    {
     "data": {
      "text/plain": [
       "99271300"
      ]
     },
     "execution_count": 29,
     "metadata": {},
     "output_type": "execute_result"
    }
   ],
   "source": [
    "df_only_questions.count()"
   ]
  },
  {
   "cell_type": "markdown",
   "id": "16262ac1-8c6a-428f-9feb-d4d80a777d6f",
   "metadata": {},
   "source": [
    "Безусловно мой ПК не сможет работать с таким объемом данных, поэтому я просэмплирую наш датасет"
   ]
  },
  {
   "cell_type": "code",
   "execution_count": 30,
   "id": "debdf11e-d046-431d-bf2a-08e320e8f143",
   "metadata": {},
   "outputs": [],
   "source": [
    "df_only_questions_samp = df_only_questions.sample(withReplacement = False , fraction = 0.1, seed = 52)"
   ]
  },
  {
   "cell_type": "code",
   "execution_count": 31,
   "id": "0a960d8a-111d-4138-9206-87d723ff5b3a",
   "metadata": {},
   "outputs": [
    {
     "name": "stderr",
     "output_type": "stream",
     "text": [
      "                                                                                \r"
     ]
    }
   ],
   "source": [
    "df_only_questions_samp = df_only_questions_samp.toPandas()"
   ]
  },
  {
   "cell_type": "code",
   "execution_count": 32,
   "id": "60cfc385-704a-462a-8c52-b915c67ffb3b",
   "metadata": {},
   "outputs": [
    {
     "name": "stdout",
     "output_type": "stream",
     "text": [
      "<class 'pandas.core.frame.DataFrame'>\n",
      "RangeIndex: 9929947 entries, 0 to 9929946\n",
      "Data columns (total 14 columns):\n",
      " #   Column                          Dtype  \n",
      "---  ------                          -----  \n",
      " 0   row_id                          int32  \n",
      " 1   timestamp                       int64  \n",
      " 2   user_id                         int32  \n",
      " 3   content_id                      int32  \n",
      " 4   content_type_id                 int32  \n",
      " 5   task_container_id               int32  \n",
      " 6   user_answer                     int32  \n",
      " 7   answered_correctly              int32  \n",
      " 8   prior_question_elapsed_time     float64\n",
      " 9   prior_question_had_explanation  object \n",
      " 10  question_id                     int32  \n",
      " 11  correct_answer                  int8   \n",
      " 12  part                            int8   \n",
      " 13  tags                            object \n",
      "dtypes: float64(1), int32(8), int64(1), int8(2), object(2)\n",
      "memory usage: 625.0+ MB\n"
     ]
    }
   ],
   "source": [
    "df_only_questions_samp.info()"
   ]
  },
  {
   "cell_type": "code",
   "execution_count": 33,
   "id": "b0747a80-7883-4b3e-b7f3-7bf80229d657",
   "metadata": {},
   "outputs": [
    {
     "data": {
      "text/plain": [
       "row_id                                0\n",
       "timestamp                             0\n",
       "user_id                               0\n",
       "content_id                            0\n",
       "content_type_id                       0\n",
       "task_container_id                     0\n",
       "user_answer                           0\n",
       "answered_correctly                    0\n",
       "prior_question_elapsed_time       39179\n",
       "prior_question_had_explanation    39179\n",
       "question_id                           0\n",
       "correct_answer                        0\n",
       "part                                  0\n",
       "tags                                  0\n",
       "dtype: int64"
      ]
     },
     "execution_count": 33,
     "metadata": {},
     "output_type": "execute_result"
    }
   ],
   "source": [
    "df_only_questions_samp.isna().sum()"
   ]
  },
  {
   "cell_type": "markdown",
   "id": "06b0c757-3937-442a-ab68-4df5decbc9d8",
   "metadata": {},
   "source": [
    "Здесь пропуски могут быть обособлены тем, что студентам задают вводные вопросы"
   ]
  },
  {
   "cell_type": "code",
   "execution_count": 34,
   "id": "e4f7f624-1f5f-4caf-82c2-1ee11bb48d93",
   "metadata": {},
   "outputs": [],
   "source": [
    "df_only_questions_samp.dropna(inplace=True,axis=0)"
   ]
  },
  {
   "cell_type": "code",
   "execution_count": 35,
   "id": "b854b14a-69ee-4ff6-8120-8fe696f6c125",
   "metadata": {},
   "outputs": [],
   "source": [
    "df_only_questions_samp.drop(['row_id','content_type_id'],axis = 1, inplace = True)"
   ]
  },
  {
   "cell_type": "markdown",
   "id": "f9f3dade-a18f-4d84-87b6-20b84552cfa1",
   "metadata": {},
   "source": [
    "Таким образом 39179 вопросов являлись первыми для студентов. Поскольку это могли быть вводные вопросы или организациооные, то можно их удалить."
   ]
  },
  {
   "cell_type": "code",
   "execution_count": 36,
   "id": "9ddef170-8059-44db-bdc8-c23bd30a7adc",
   "metadata": {},
   "outputs": [
    {
     "data": {
      "text/plain": [
       "np.int64(1)"
      ]
     },
     "execution_count": 36,
     "metadata": {},
     "output_type": "execute_result"
    }
   ],
   "source": [
    "df_only_questions_samp.duplicated().sum()"
   ]
  },
  {
   "cell_type": "markdown",
   "id": "d385298e-eeb7-4860-93ae-4f68a99cffaf",
   "metadata": {},
   "source": [
    "Дубликатов в нашей выборке необнаружено"
   ]
  },
  {
   "cell_type": "markdown",
   "id": "5848635b-b744-4c46-a8ce-022064cf357c",
   "metadata": {},
   "source": [
    "### Лекции"
   ]
  },
  {
   "cell_type": "code",
   "execution_count": 37,
   "id": "4352f0e8-d64f-46fb-aea7-bc01bf951c61",
   "metadata": {},
   "outputs": [],
   "source": [
    "df_only_lecture = spark.sql('''WITH only_lecture as (SELECT *\n",
    "FROM df_train AS dt\n",
    "WHERE content_type_id=1)\n",
    "SELECT *\n",
    "FROM only_lecture as ol\n",
    "LEFT JOIN df_lectures AS dl ON ol.content_id = dl.lecture_id\n",
    "''')"
   ]
  },
  {
   "cell_type": "code",
   "execution_count": 38,
   "id": "e7a2511a-f3c8-4ae8-ae90-6f0ac00dbcdc",
   "metadata": {},
   "outputs": [
    {
     "name": "stderr",
     "output_type": "stream",
     "text": [
      "                                                                                \r"
     ]
    },
    {
     "data": {
      "text/plain": [
       "1959032"
      ]
     },
     "execution_count": 38,
     "metadata": {},
     "output_type": "execute_result"
    }
   ],
   "source": [
    "df_only_lecture.count()"
   ]
  },
  {
   "cell_type": "code",
   "execution_count": 39,
   "id": "00aaecda-f9dc-44d0-9deb-effda2b34212",
   "metadata": {},
   "outputs": [
    {
     "name": "stderr",
     "output_type": "stream",
     "text": [
      "                                                                                \r"
     ]
    }
   ],
   "source": [
    "df_lecture_pd = df_only_lecture.toPandas()"
   ]
  },
  {
   "cell_type": "code",
   "execution_count": 40,
   "id": "2fd2f5b9-10ad-4692-b169-9c5b6c9a381e",
   "metadata": {},
   "outputs": [
    {
     "name": "stdout",
     "output_type": "stream",
     "text": [
      "<class 'pandas.core.frame.DataFrame'>\n",
      "RangeIndex: 1959032 entries, 0 to 1959031\n",
      "Data columns (total 14 columns):\n",
      " #   Column                          Dtype  \n",
      "---  ------                          -----  \n",
      " 0   row_id                          int32  \n",
      " 1   timestamp                       int64  \n",
      " 2   user_id                         int32  \n",
      " 3   content_id                      int32  \n",
      " 4   content_type_id                 int32  \n",
      " 5   task_container_id               int32  \n",
      " 6   user_answer                     int32  \n",
      " 7   answered_correctly              int32  \n",
      " 8   prior_question_elapsed_time     float64\n",
      " 9   prior_question_had_explanation  bool   \n",
      " 10  lecture_id                      int32  \n",
      " 11  tag                             int32  \n",
      " 12  part                            int32  \n",
      " 13  type_of                         object \n",
      "dtypes: bool(1), float64(1), int32(10), int64(1), object(1)\n",
      "memory usage: 121.4+ MB\n"
     ]
    }
   ],
   "source": [
    "df_lecture_pd.info()"
   ]
  },
  {
   "cell_type": "code",
   "execution_count": 41,
   "id": "ee0f41ef-a79a-41ad-af7b-e08ecd67c056",
   "metadata": {},
   "outputs": [
    {
     "data": {
      "text/plain": [
       "row_id                                  0\n",
       "timestamp                               0\n",
       "user_id                                 0\n",
       "content_id                              0\n",
       "content_type_id                         0\n",
       "task_container_id                       0\n",
       "user_answer                             0\n",
       "answered_correctly                      0\n",
       "prior_question_elapsed_time       1959032\n",
       "prior_question_had_explanation          0\n",
       "lecture_id                              0\n",
       "tag                                     0\n",
       "part                                    0\n",
       "type_of                                 0\n",
       "dtype: int64"
      ]
     },
     "execution_count": 41,
     "metadata": {},
     "output_type": "execute_result"
    }
   ],
   "source": [
    "df_lecture_pd.isna().sum()"
   ]
  },
  {
   "cell_type": "code",
   "execution_count": 42,
   "id": "a11c9f60-94df-4c6a-afe8-21d4d02da2c0",
   "metadata": {},
   "outputs": [],
   "source": [
    "df_lecture_pd.drop(['prior_question_elapsed_time','prior_question_had_explanation','user_answer','answered_correctly','content_type_id'],axis = 1, inplace = True)"
   ]
  },
  {
   "cell_type": "markdown",
   "id": "df80feca-92cb-48a6-bf4b-4d7e201bbe47",
   "metadata": {},
   "source": [
    "Удалю столбцы, которые не носят никакой полезной информации"
   ]
  },
  {
   "cell_type": "code",
   "execution_count": 43,
   "id": "5d90e3be-9e0c-4544-952d-d54b4799ceef",
   "metadata": {},
   "outputs": [
    {
     "data": {
      "text/plain": [
       "np.int64(0)"
      ]
     },
     "execution_count": 43,
     "metadata": {},
     "output_type": "execute_result"
    }
   ],
   "source": [
    "df_lecture_pd.duplicated().sum()"
   ]
  },
  {
   "cell_type": "markdown",
   "id": "d181c5af-a9cb-4b12-a1df-e469357c8cbc",
   "metadata": {},
   "source": [
    "Дубликатов необнаружено, двигаемся дальше"
   ]
  },
  {
   "cell_type": "markdown",
   "id": "daf42f41-3814-46c4-8d36-6b4267828c88",
   "metadata": {},
   "source": [
    "## Генерация новых признаков и исследовательский анализ"
   ]
  },
  {
   "cell_type": "markdown",
   "id": "da374680-a025-49d7-9d9a-383de4122f38",
   "metadata": {},
   "source": [
    "### Ответы на вопросы"
   ]
  },
  {
   "cell_type": "code",
   "execution_count": 44,
   "id": "e7dae282-1325-461c-aa72-aece130307f0",
   "metadata": {},
   "outputs": [
    {
     "data": {
      "text/html": [
       "<div>\n",
       "<style scoped>\n",
       "    .dataframe tbody tr th:only-of-type {\n",
       "        vertical-align: middle;\n",
       "    }\n",
       "\n",
       "    .dataframe tbody tr th {\n",
       "        vertical-align: top;\n",
       "    }\n",
       "\n",
       "    .dataframe thead th {\n",
       "        text-align: right;\n",
       "    }\n",
       "</style>\n",
       "<table border=\"1\" class=\"dataframe\">\n",
       "  <thead>\n",
       "    <tr style=\"text-align: right;\">\n",
       "      <th></th>\n",
       "      <th>timestamp</th>\n",
       "      <th>user_id</th>\n",
       "      <th>content_id</th>\n",
       "      <th>task_container_id</th>\n",
       "      <th>user_answer</th>\n",
       "      <th>answered_correctly</th>\n",
       "      <th>prior_question_elapsed_time</th>\n",
       "      <th>prior_question_had_explanation</th>\n",
       "      <th>question_id</th>\n",
       "      <th>correct_answer</th>\n",
       "      <th>part</th>\n",
       "      <th>tags</th>\n",
       "    </tr>\n",
       "  </thead>\n",
       "  <tbody>\n",
       "    <tr>\n",
       "      <th>0</th>\n",
       "      <td>3187612339</td>\n",
       "      <td>24418</td>\n",
       "      <td>9427</td>\n",
       "      <td>371</td>\n",
       "      <td>3</td>\n",
       "      <td>1</td>\n",
       "      <td>19000.0</td>\n",
       "      <td>True</td>\n",
       "      <td>9427</td>\n",
       "      <td>3</td>\n",
       "      <td>5</td>\n",
       "      <td>73</td>\n",
       "    </tr>\n",
       "    <tr>\n",
       "      <th>1</th>\n",
       "      <td>5701459054</td>\n",
       "      <td>24418</td>\n",
       "      <td>4519</td>\n",
       "      <td>1824</td>\n",
       "      <td>1</td>\n",
       "      <td>0</td>\n",
       "      <td>17000.0</td>\n",
       "      <td>True</td>\n",
       "      <td>4519</td>\n",
       "      <td>0</td>\n",
       "      <td>5</td>\n",
       "      <td>75</td>\n",
       "    </tr>\n",
       "    <tr>\n",
       "      <th>2</th>\n",
       "      <td>1997475307</td>\n",
       "      <td>91216</td>\n",
       "      <td>4818</td>\n",
       "      <td>707</td>\n",
       "      <td>3</td>\n",
       "      <td>0</td>\n",
       "      <td>15000.0</td>\n",
       "      <td>True</td>\n",
       "      <td>4818</td>\n",
       "      <td>1</td>\n",
       "      <td>5</td>\n",
       "      <td>75</td>\n",
       "    </tr>\n",
       "    <tr>\n",
       "      <th>3</th>\n",
       "      <td>7859298215</td>\n",
       "      <td>91216</td>\n",
       "      <td>7982</td>\n",
       "      <td>1060</td>\n",
       "      <td>2</td>\n",
       "      <td>1</td>\n",
       "      <td>23000.0</td>\n",
       "      <td>True</td>\n",
       "      <td>7982</td>\n",
       "      <td>2</td>\n",
       "      <td>1</td>\n",
       "      <td>9 10 29</td>\n",
       "    </tr>\n",
       "    <tr>\n",
       "      <th>4</th>\n",
       "      <td>511565676</td>\n",
       "      <td>301590</td>\n",
       "      <td>4519</td>\n",
       "      <td>123</td>\n",
       "      <td>3</td>\n",
       "      <td>0</td>\n",
       "      <td>64000.0</td>\n",
       "      <td>True</td>\n",
       "      <td>4519</td>\n",
       "      <td>0</td>\n",
       "      <td>5</td>\n",
       "      <td>75</td>\n",
       "    </tr>\n",
       "  </tbody>\n",
       "</table>\n",
       "</div>"
      ],
      "text/plain": [
       "    timestamp  user_id  content_id  task_container_id  user_answer  \\\n",
       "0  3187612339    24418        9427                371            3   \n",
       "1  5701459054    24418        4519               1824            1   \n",
       "2  1997475307    91216        4818                707            3   \n",
       "3  7859298215    91216        7982               1060            2   \n",
       "4   511565676   301590        4519                123            3   \n",
       "\n",
       "   answered_correctly  prior_question_elapsed_time  \\\n",
       "0                   1                      19000.0   \n",
       "1                   0                      17000.0   \n",
       "2                   0                      15000.0   \n",
       "3                   1                      23000.0   \n",
       "4                   0                      64000.0   \n",
       "\n",
       "  prior_question_had_explanation  question_id  correct_answer  part     tags  \n",
       "0                           True         9427               3     5       73  \n",
       "1                           True         4519               0     5       75  \n",
       "2                           True         4818               1     5       75  \n",
       "3                           True         7982               2     1  9 10 29  \n",
       "4                           True         4519               0     5       75  "
      ]
     },
     "execution_count": 44,
     "metadata": {},
     "output_type": "execute_result"
    }
   ],
   "source": [
    "df_only_questions_samp.head()"
   ]
  },
  {
   "cell_type": "code",
   "execution_count": 45,
   "id": "3bc61269-6e18-4ba5-841b-9affa7b300fa",
   "metadata": {},
   "outputs": [],
   "source": [
    "res = df_only_questions_samp.pivot_table(index = 'user_id',values = 'timestamp',aggfunc = 'min').reset_index()"
   ]
  },
  {
   "cell_type": "code",
   "execution_count": 46,
   "id": "9ba3fb97-3708-4185-8639-4960c564f084",
   "metadata": {},
   "outputs": [],
   "source": [
    "res.columns = ['user_id','min_timestamp']"
   ]
  },
  {
   "cell_type": "code",
   "execution_count": 47,
   "id": "a9e0f051-4d24-4315-898a-b288d6a80ab0",
   "metadata": {},
   "outputs": [],
   "source": [
    "df_only_questions_samp = df_only_questions_samp.merge(res,on='user_id',how = 'inner')"
   ]
  },
  {
   "cell_type": "code",
   "execution_count": 48,
   "id": "19736afc-74cd-43d7-bf0c-a8a1ae804175",
   "metadata": {},
   "outputs": [],
   "source": [
    "df_only_questions_samp['interval'] = df_only_questions_samp['timestamp'] - df_only_questions_samp['min_timestamp']"
   ]
  },
  {
   "cell_type": "code",
   "execution_count": 49,
   "id": "97c70db1-79ef-4f86-8bc2-2ab2f7bfe95a",
   "metadata": {},
   "outputs": [],
   "source": [
    "df_only_questions_samp['interval_hours'] = df_only_questions_samp['interval']/(60*1000*60)"
   ]
  },
  {
   "cell_type": "code",
   "execution_count": 50,
   "id": "8473bcc7-699a-49a3-9c25-236d567d3b70",
   "metadata": {},
   "outputs": [],
   "source": [
    "df_only_questions_samp['prior_question_elapsed_time'] = df_only_questions_samp['prior_question_elapsed_time']/1000"
   ]
  },
  {
   "cell_type": "code",
   "execution_count": 51,
   "id": "c4e8e3a1-703b-4857-8418-06366029819d",
   "metadata": {},
   "outputs": [],
   "source": [
    "df_only_questions_samp.drop(['min_timestamp','interval','timestamp'], axis = 1, inplace = True)"
   ]
  },
  {
   "cell_type": "code",
   "execution_count": 52,
   "id": "5b1393dc-a4c6-450f-9ebc-e4e2185ec80d",
   "metadata": {},
   "outputs": [
    {
     "data": {
      "text/html": [
       "<div>\n",
       "<style scoped>\n",
       "    .dataframe tbody tr th:only-of-type {\n",
       "        vertical-align: middle;\n",
       "    }\n",
       "\n",
       "    .dataframe tbody tr th {\n",
       "        vertical-align: top;\n",
       "    }\n",
       "\n",
       "    .dataframe thead th {\n",
       "        text-align: right;\n",
       "    }\n",
       "</style>\n",
       "<table border=\"1\" class=\"dataframe\">\n",
       "  <thead>\n",
       "    <tr style=\"text-align: right;\">\n",
       "      <th></th>\n",
       "      <th>user_id</th>\n",
       "      <th>content_id</th>\n",
       "      <th>task_container_id</th>\n",
       "      <th>user_answer</th>\n",
       "      <th>answered_correctly</th>\n",
       "      <th>prior_question_elapsed_time</th>\n",
       "      <th>prior_question_had_explanation</th>\n",
       "      <th>question_id</th>\n",
       "      <th>correct_answer</th>\n",
       "      <th>part</th>\n",
       "      <th>tags</th>\n",
       "      <th>interval_hours</th>\n",
       "    </tr>\n",
       "  </thead>\n",
       "  <tbody>\n",
       "    <tr>\n",
       "      <th>0</th>\n",
       "      <td>24418</td>\n",
       "      <td>9427</td>\n",
       "      <td>371</td>\n",
       "      <td>3</td>\n",
       "      <td>1</td>\n",
       "      <td>19.0</td>\n",
       "      <td>True</td>\n",
       "      <td>9427</td>\n",
       "      <td>3</td>\n",
       "      <td>5</td>\n",
       "      <td>73</td>\n",
       "      <td>885.423388</td>\n",
       "    </tr>\n",
       "    <tr>\n",
       "      <th>1</th>\n",
       "      <td>24418</td>\n",
       "      <td>4519</td>\n",
       "      <td>1824</td>\n",
       "      <td>1</td>\n",
       "      <td>0</td>\n",
       "      <td>17.0</td>\n",
       "      <td>True</td>\n",
       "      <td>4519</td>\n",
       "      <td>0</td>\n",
       "      <td>5</td>\n",
       "      <td>75</td>\n",
       "      <td>1583.714142</td>\n",
       "    </tr>\n",
       "    <tr>\n",
       "      <th>2</th>\n",
       "      <td>91216</td>\n",
       "      <td>4818</td>\n",
       "      <td>707</td>\n",
       "      <td>3</td>\n",
       "      <td>0</td>\n",
       "      <td>15.0</td>\n",
       "      <td>True</td>\n",
       "      <td>4818</td>\n",
       "      <td>1</td>\n",
       "      <td>5</td>\n",
       "      <td>75</td>\n",
       "      <td>554.728938</td>\n",
       "    </tr>\n",
       "    <tr>\n",
       "      <th>3</th>\n",
       "      <td>91216</td>\n",
       "      <td>7982</td>\n",
       "      <td>1060</td>\n",
       "      <td>2</td>\n",
       "      <td>1</td>\n",
       "      <td>23.0</td>\n",
       "      <td>True</td>\n",
       "      <td>7982</td>\n",
       "      <td>2</td>\n",
       "      <td>1</td>\n",
       "      <td>9 10 29</td>\n",
       "      <td>2183.013079</td>\n",
       "    </tr>\n",
       "    <tr>\n",
       "      <th>4</th>\n",
       "      <td>301590</td>\n",
       "      <td>4519</td>\n",
       "      <td>123</td>\n",
       "      <td>3</td>\n",
       "      <td>0</td>\n",
       "      <td>64.0</td>\n",
       "      <td>True</td>\n",
       "      <td>4519</td>\n",
       "      <td>0</td>\n",
       "      <td>5</td>\n",
       "      <td>75</td>\n",
       "      <td>142.091371</td>\n",
       "    </tr>\n",
       "  </tbody>\n",
       "</table>\n",
       "</div>"
      ],
      "text/plain": [
       "   user_id  content_id  task_container_id  user_answer  answered_correctly  \\\n",
       "0    24418        9427                371            3                   1   \n",
       "1    24418        4519               1824            1                   0   \n",
       "2    91216        4818                707            3                   0   \n",
       "3    91216        7982               1060            2                   1   \n",
       "4   301590        4519                123            3                   0   \n",
       "\n",
       "   prior_question_elapsed_time prior_question_had_explanation  question_id  \\\n",
       "0                         19.0                           True         9427   \n",
       "1                         17.0                           True         4519   \n",
       "2                         15.0                           True         4818   \n",
       "3                         23.0                           True         7982   \n",
       "4                         64.0                           True         4519   \n",
       "\n",
       "   correct_answer  part     tags  interval_hours  \n",
       "0               3     5       73      885.423388  \n",
       "1               0     5       75     1583.714142  \n",
       "2               1     5       75      554.728938  \n",
       "3               2     1  9 10 29     2183.013079  \n",
       "4               0     5       75      142.091371  "
      ]
     },
     "execution_count": 52,
     "metadata": {},
     "output_type": "execute_result"
    }
   ],
   "source": [
    "df_only_questions_samp.head()"
   ]
  },
  {
   "cell_type": "code",
   "execution_count": 53,
   "id": "47a8d8c4-c46b-4620-8118-ee866d0004d4",
   "metadata": {},
   "outputs": [
    {
     "data": {
      "text/plain": [
       "<Figure size 1000x800 with 0 Axes>"
      ]
     },
     "metadata": {},
     "output_type": "display_data"
    },
    {
     "data": {
      "image/png": "[encoded data removed]",
      "text/plain": [
       "<Figure size 640x480 with 2 Axes>"
      ]
     },
     "metadata": {},
     "output_type": "display_data"
    }
   ],
   "source": [
    "plt.figure(figsize=(10,8))\n",
    "fig,ax = plt.subplots(ncols = 1 , nrows = 2)\n",
    "sns.histplot(df_only_questions_samp['prior_question_elapsed_time'],bins = 10,color = 'pink',binwidth = 5, shrink=1.1,ax=ax[0] )\n",
    "ax[0].set_title(f'Гистограмма распределения prior_question_elapsed_time')\n",
    "sns.histplot(df_only_questions_samp['interval_hours'],bins = 60,color = 'pink',ax=ax[1] )\n",
    "ax[1].set_title(f'Гистограмма распределения interval_hours')\n",
    "plt.subplots_adjust(hspace=0.8)\n",
    "plt.show();"
   ]
  },
  {
   "cell_type": "markdown",
   "id": "ca06394d-0542-47f2-ae45-4f85c120f3c3",
   "metadata": {},
   "source": [
    "Как можно видеть, в целом ответ на вопрос у студента занимал в большинстве случаев до 100 секунд.  Также стоит отметить интервал между его первым взаимодействием и последующим до 5000 часов"
   ]
  },
  {
   "cell_type": "code",
   "execution_count": 54,
   "id": "a35e134d-1b44-48ed-9cf9-da94fb284755",
   "metadata": {},
   "outputs": [
    {
     "data": {
      "image/png": "[encoded data removed]",
      "text/plain": [
       "<Figure size 1500x1000 with 2 Axes>"
      ]
     },
     "metadata": {},
     "output_type": "display_data"
    }
   ],
   "source": [
    "fig,axes = plt.subplots(ncols = 2,nrows = 1,figsize =(15,10))\n",
    "axes[0].pie(df_only_questions_samp['answered_correctly'].value_counts().values,\n",
    "            labels = df_only_questions_samp['answered_correctly'].value_counts().index,\n",
    "           autopct = '%1.2f%%',radius = 1.2,colors=['red','green'])\n",
    "axes[0].set_title('Диаграмма answered_correctly')\n",
    "axes[1].pie(df_only_questions_samp['prior_question_had_explanation'].value_counts().values,\n",
    "            labels = df_only_questions_samp['prior_question_had_explanation'].value_counts().index,\n",
    "           autopct = '%1.2f%%',radius = 1.2,colors=['coral','gray'])\n",
    "axes[1].set_title('Диаграмма prior_question_had_explanation')\n",
    "plt.show()"
   ]
  },
  {
   "cell_type": "markdown",
   "id": "43e96f51-3c67-445a-8054-be410d315929",
   "metadata": {},
   "source": [
    "Большая часть людей правильно отвечала на вопросы.  Также практически все вопросы шли с объяснениями"
   ]
  },
  {
   "cell_type": "code",
   "execution_count": 55,
   "id": "af09668f-ceb0-419d-929e-ca050687514b",
   "metadata": {},
   "outputs": [],
   "source": [
    "result_of_test = df_only_questions_samp.groupby('user_id')['answered_correctly'].sum()/df_only_questions_samp.groupby('user_id')['answered_correctly'].count()*100"
   ]
  },
  {
   "cell_type": "code",
   "execution_count": 56,
   "id": "67052d43-df24-4ea9-8d7b-65ebd5cb3e97",
   "metadata": {},
   "outputs": [
    {
     "data": {
      "text/plain": [
       "Text(0.5, 1.0, 'Гистограмма % правильно отвечеченных вопросов студентами')"
      ]
     },
     "execution_count": 56,
     "metadata": {},
     "output_type": "execute_result"
    },
    {
     "data": {
      "image/png": "[encoded data removed]",
      "text/plain": [
       "<Figure size 640x480 with 1 Axes>"
      ]
     },
     "metadata": {},
     "output_type": "display_data"
    }
   ],
   "source": [
    "sns.histplot(result_of_test.values,bins = 5,color = 'pink',binwidth = 3)\n",
    "plt.title('Гистограмма % правильно отвечеченных вопросов студентами')"
   ]
  },
  {
   "cell_type": "markdown",
   "id": "c103365e-df87-4957-b9c2-7e0f28eb0093",
   "metadata": {},
   "source": [
    "Значительную часть составляют студенты, которые вообще ничего не решали (возможно был баг), а также достаточно большое кол-во студентов, кто правильно ответил на весь тест"
   ]
  },
  {
   "cell_type": "code",
   "execution_count": 57,
   "id": "5c250c41-2311-4301-953e-a80a30b5a421",
   "metadata": {},
   "outputs": [
    {
     "data": {
      "text/plain": [
       "np.float64(100.0)"
      ]
     },
     "execution_count": 57,
     "metadata": {},
     "output_type": "execute_result"
    }
   ],
   "source": [
    "result_of_test.max()"
   ]
  },
  {
   "cell_type": "code",
   "execution_count": 58,
   "id": "a671f945-745a-4c2e-908f-dc386f0748cb",
   "metadata": {},
   "outputs": [],
   "source": [
    "result_of_part_test = df_only_questions_samp.groupby('part')['answered_correctly'].sum()/df_only_questions_samp.groupby('part')['answered_correctly'].count()*100"
   ]
  },
  {
   "cell_type": "code",
   "execution_count": 59,
   "id": "0ca1d800-9782-4be4-8e73-595fcd9ee5b7",
   "metadata": {},
   "outputs": [],
   "source": [
    "result_of_part_test.sort_values(inplace=True,ascending=False)"
   ]
  },
  {
   "cell_type": "code",
   "execution_count": 60,
   "id": "0aaba8a5-5f9a-4480-b0c0-ad9be515608a",
   "metadata": {},
   "outputs": [
    {
     "data": {
      "text/plain": [
       "Text(0, 0.5, '% правильных ответов')"
      ]
     },
     "execution_count": 60,
     "metadata": {},
     "output_type": "execute_result"
    },
    {
     "data": {
      "image/png": "[encoded data removed]",
      "text/plain": [
       "<Figure size 640x480 with 1 Axes>"
      ]
     },
     "metadata": {},
     "output_type": "display_data"
    }
   ],
   "source": [
    "sns.barplot(x=result_of_part_test.index, y=result_of_part_test.values,order = result_of_part_test.index,\n",
    "            palette=['red','blue','black','yellow','coral'])\n",
    "plt.xlabel('Часть теста')\n",
    "plt.ylabel('% правильных ответов')"
   ]
  },
  {
   "cell_type": "markdown",
   "id": "da2de286-68dd-4cbf-8c36-deed9142b2ff",
   "metadata": {},
   "source": [
    "Самыми простыми для студентов были первые 3 части (скорее всего базовая часть). А вот с 4-7 вопросы могли быть более углубленными"
   ]
  },
  {
   "cell_type": "code",
   "execution_count": 61,
   "id": "0351a200-f80c-4ee6-9d74-c3a0c196fa77",
   "metadata": {},
   "outputs": [
    {
     "data": {
      "text/plain": [
       "<Axes: xlabel='prior_question_had_explanation', ylabel='prior_question_elapsed_time'>"
      ]
     },
     "execution_count": 61,
     "metadata": {},
     "output_type": "execute_result"
    },
    {
     "data": {
      "image/png": "[encoded data removed]",
      "text/plain": [
       "<Figure size 1500x800 with 2 Axes>"
      ]
     },
     "metadata": {},
     "output_type": "display_data"
    }
   ],
   "source": [
    "fig,axes = plt.subplots(ncols = 2,nrows = 1,figsize = (15,8))\n",
    "sns.boxplot(data = df_only_questions_samp , y='prior_question_elapsed_time',x = 'answered_correctly',ax =axes[0]);\n",
    "sns.boxplot(data = df_only_questions_samp , y='prior_question_elapsed_time',x = 'prior_question_had_explanation',ax =axes[1])"
   ]
  },
  {
   "cell_type": "markdown",
   "id": "42350932-5a50-4d03-83f1-805c199c5a4f",
   "metadata": {},
   "source": [
    "Наблюдаются незначительные выбросы, а вот аномалий не наблюдается, поэтому оставляем все как есть."
   ]
  },
  {
   "cell_type": "markdown",
   "id": "0775886f-56fa-4fb4-9168-75eb7b6d58be",
   "metadata": {},
   "source": [
    "### Лекции"
   ]
  },
  {
   "cell_type": "code",
   "execution_count": 62,
   "id": "804a1119-ba25-4020-b9b5-c90dad0f0aa5",
   "metadata": {},
   "outputs": [
    {
     "data": {
      "text/html": [
       "<div>\n",
       "<style scoped>\n",
       "    .dataframe tbody tr th:only-of-type {\n",
       "        vertical-align: middle;\n",
       "    }\n",
       "\n",
       "    .dataframe tbody tr th {\n",
       "        vertical-align: top;\n",
       "    }\n",
       "\n",
       "    .dataframe thead th {\n",
       "        text-align: right;\n",
       "    }\n",
       "</style>\n",
       "<table border=\"1\" class=\"dataframe\">\n",
       "  <thead>\n",
       "    <tr style=\"text-align: right;\">\n",
       "      <th></th>\n",
       "      <th>row_id</th>\n",
       "      <th>timestamp</th>\n",
       "      <th>user_id</th>\n",
       "      <th>content_id</th>\n",
       "      <th>task_container_id</th>\n",
       "      <th>lecture_id</th>\n",
       "      <th>tag</th>\n",
       "      <th>part</th>\n",
       "      <th>type_of</th>\n",
       "    </tr>\n",
       "  </thead>\n",
       "  <tbody>\n",
       "    <tr>\n",
       "      <th>0</th>\n",
       "      <td>4164</td>\n",
       "      <td>5955309420</td>\n",
       "      <td>24418</td>\n",
       "      <td>23336</td>\n",
       "      <td>1860</td>\n",
       "      <td>23336</td>\n",
       "      <td>53</td>\n",
       "      <td>5</td>\n",
       "      <td>concept</td>\n",
       "    </tr>\n",
       "    <tr>\n",
       "      <th>1</th>\n",
       "      <td>12227</td>\n",
       "      <td>1786164367</td>\n",
       "      <td>107002</td>\n",
       "      <td>23336</td>\n",
       "      <td>739</td>\n",
       "      <td>23336</td>\n",
       "      <td>53</td>\n",
       "      <td>5</td>\n",
       "      <td>concept</td>\n",
       "    </tr>\n",
       "    <tr>\n",
       "      <th>2</th>\n",
       "      <td>16758</td>\n",
       "      <td>681696772</td>\n",
       "      <td>165081</td>\n",
       "      <td>23336</td>\n",
       "      <td>76</td>\n",
       "      <td>23336</td>\n",
       "      <td>53</td>\n",
       "      <td>5</td>\n",
       "      <td>concept</td>\n",
       "    </tr>\n",
       "    <tr>\n",
       "      <th>3</th>\n",
       "      <td>22752</td>\n",
       "      <td>685771099</td>\n",
       "      <td>375732</td>\n",
       "      <td>23336</td>\n",
       "      <td>143</td>\n",
       "      <td>23336</td>\n",
       "      <td>53</td>\n",
       "      <td>5</td>\n",
       "      <td>concept</td>\n",
       "    </tr>\n",
       "    <tr>\n",
       "      <th>4</th>\n",
       "      <td>23511</td>\n",
       "      <td>17436455557</td>\n",
       "      <td>385548</td>\n",
       "      <td>23336</td>\n",
       "      <td>64</td>\n",
       "      <td>23336</td>\n",
       "      <td>53</td>\n",
       "      <td>5</td>\n",
       "      <td>concept</td>\n",
       "    </tr>\n",
       "  </tbody>\n",
       "</table>\n",
       "</div>"
      ],
      "text/plain": [
       "   row_id    timestamp  user_id  content_id  task_container_id  lecture_id  \\\n",
       "0    4164   5955309420    24418       23336               1860       23336   \n",
       "1   12227   1786164367   107002       23336                739       23336   \n",
       "2   16758    681696772   165081       23336                 76       23336   \n",
       "3   22752    685771099   375732       23336                143       23336   \n",
       "4   23511  17436455557   385548       23336                 64       23336   \n",
       "\n",
       "   tag  part  type_of  \n",
       "0   53     5  concept  \n",
       "1   53     5  concept  \n",
       "2   53     5  concept  \n",
       "3   53     5  concept  \n",
       "4   53     5  concept  "
      ]
     },
     "execution_count": 62,
     "metadata": {},
     "output_type": "execute_result"
    }
   ],
   "source": [
    "df_lecture_pd.head()"
   ]
  },
  {
   "cell_type": "code",
   "execution_count": 63,
   "id": "36faa680-8cde-41ad-ab49-0ad098bec9e0",
   "metadata": {},
   "outputs": [],
   "source": [
    "count_users = df_lecture_pd.groupby('type_of')['user_id'].count()"
   ]
  },
  {
   "cell_type": "code",
   "execution_count": 64,
   "id": "51aca9bc-e3ab-46f0-9d40-3e87822e1142",
   "metadata": {},
   "outputs": [],
   "source": [
    "count_users.sort_values(inplace=True, ascending=False)"
   ]
  },
  {
   "cell_type": "code",
   "execution_count": 65,
   "id": "d2d84b04-b4df-42b6-8e1d-e78b30e3ce14",
   "metadata": {},
   "outputs": [
    {
     "data": {
      "text/plain": [
       "<Axes: xlabel='type_of'>"
      ]
     },
     "execution_count": 65,
     "metadata": {},
     "output_type": "execute_result"
    },
    {
     "data": {
      "image/png": "[encoded data removed]",
      "text/plain": [
       "<Figure size 640x480 with 1 Axes>"
      ]
     },
     "metadata": {},
     "output_type": "display_data"
    }
   ],
   "source": [
    "sns.barplot(x = count_users.index , order =count_users.index, y = count_users.values,color = 'orange')"
   ]
  },
  {
   "cell_type": "markdown",
   "id": "171130b1-62a8-470b-9f88-7778e85de332",
   "metadata": {},
   "source": [
    "Большинство лекций посвящены основным теоретическим основам предмета. Значительно меньшую часть составляют лекции по решению задач"
   ]
  },
  {
   "cell_type": "markdown",
   "id": "6f61d0eb-2519-45fa-9f6a-c74f37ad6ed8",
   "metadata": {},
   "source": [
    "## Выводы"
   ]
  },
  {
   "cell_type": "markdown",
   "id": "b9107f18-f1da-4acb-8a1b-bf534673f8d6",
   "metadata": {},
   "source": [
    "Таким образом в данной работе были получены следующие результаты:    \n",
    "+ Данные были разделены на лекции и ответы на вопросы\n",
    "+ Лекции в большинстве случаев были посвящены теоретическим основам\n",
    "+ В данных о тесте, наблюдаются выбросы.\n",
    "+ Первые 3 части теста были легче последующих\n",
    "+ Большое кол-во студентов правильно отвечали на все вопросы\n",
    "+ Присутствовали студенты которые вовсе не ответили ни на один вопрос (это может указывать на какой-либо баг)"
   ]
  },
  {
   "cell_type": "code",
   "execution_count": null,
   "id": "440f9c0f-6c26-4f48-b635-680dd3996549",
   "metadata": {},
   "outputs": [],
   "source": []
  }
 ],
 "metadata": {
  "kernelspec": {
   "display_name": "Python 3 (ipykernel)",
   "language": "python",
   "name": "python3"
  },
  "language_info": {
   "codemirror_mode": {
    "name": "ipython",
    "version": 3
   },
   "file_extension": ".py",
   "mimetype": "text/x-python",
   "name": "python",
   "nbconvert_exporter": "python",
   "pygments_lexer": "ipython3",
   "version": "3.9.20"
  }
 },
 "nbformat": 4,
 "nbformat_minor": 5
}
